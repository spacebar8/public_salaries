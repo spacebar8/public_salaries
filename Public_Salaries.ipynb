{
 "cells": [
  {
   "cell_type": "markdown",
   "metadata": {},
   "source": [
    "# Bay Area - County Salary Comparison\n"
   ]
  },
  {
   "cell_type": "markdown",
   "metadata": {
    "collapsed": true
   },
   "source": [
    "### Introduction\n",
    "The motivation of the notebook is to compare graduate student assistant salaries across various counties and compare them to the state's salaries. For the purpose of this study, only data from public records were used which can be found on the web under many names e.g. \"Civic Service Pay Scale\", \"Job Salary Schedule\", etc.\n",
    "\n",
    "**Note**: These salaries are *not* to be confused with \"New Graduate Salaries\", rather these salaries are \"Graduate Student internship\" levels.  \n",
    "<br />\n",
    "\n",
    "<center><img src=\"https://upload.wikimedia.org/wikipedia/commons/d/d8/California_Bay_Area_county_map_%28zoom%26color%29.svg\" alt=\"bay area counties\" width=\"250\" height=\"250\"></center>\n",
    "\n",
    "\n",
    "**Hypothesis**: Counties of interest near Silicon Valley are at or exceed state salaries.\n",
    "* San Francisco, San Mateo, Santa Clara, Alameada\n",
    "* Santa Cruz which is south of San Mateo (grayed out on the map) was added out of interest"
   ]
  }
 ],
 "metadata": {
  "kernelspec": {
   "display_name": "Python 3.8",
   "language": "python",
   "name": "python38"
  },
  "language_info": {
   "codemirror_mode": {
    "name": "ipython",
    "version": 3
   },
   "file_extension": ".py",
   "mimetype": "text/x-python",
   "name": "python",
   "nbconvert_exporter": "python",
   "pygments_lexer": "ipython3",
   "version": "3.8.7"
  }
 },
 "nbformat": 4,
 "nbformat_minor": 2
}
